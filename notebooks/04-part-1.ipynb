{
 "cells": [
  {
   "cell_type": "markdown",
   "metadata": {},
   "source": [
    "# Day 4: Secure Container\n",
    "\n",
    "https://adventofcode.com/2019/day/4"
   ]
  },
  {
   "cell_type": "markdown",
   "metadata": {},
   "source": [
    "The Venus fuel depot is protected by a password. \n",
    "\n",
    "The password was written on a sticky note, but someone threw it out.\n",
    "\n",
    "However, a few key facts about the password are known:\n",
    "\n",
    "- It is a six-digit number.\n",
    "- The value is within the range given in your puzzle input.\n",
    "- Two adjacent digits are the same (like 22 in 122345).\n",
    "- Going from left to right, the digits never decrease; they only ever increase or stay the same (like 111123 or 135679)."
   ]
  },
  {
   "cell_type": "markdown",
   "metadata": {},
   "source": [
    "## Intelligent bruteforcing\n",
    "\n",
    "We are given a set of rules that substantially reduce the search space.\n",
    "    \n",
    "### The password is a 6 digits number. \n",
    "\n",
    "With this constraint, the search space is then reduced to 1,000,000 possibilities.\n",
    "\n",
    "_We will work with individual digits, which will make things easier, when applying other constraints._"
   ]
  },
  {
   "cell_type": "code",
   "execution_count": 1,
   "metadata": {},
   "outputs": [
    {
     "data": {
      "text/plain": [
       "(1, 2, 3, 4, 5, 6)"
      ]
     },
     "execution_count": 1,
     "metadata": {},
     "output_type": "execute_result"
    }
   ],
   "source": [
    "module Number =\n",
    "\n",
    "    type Number = int*int*int*int*int*int\n",
    "\n",
    "    let ofInt (i:int) : Number =\n",
    "        i |> (string) |> Seq.map ((string) >> Int32.Parse) |> List.ofSeq |> function | [a;b;c;d;e;f] -> (a,b,c,d,e,f) | _ -> failwith \"Invalid Number\"\n",
    "\n",
    "123456 |> Number.ofInt |> (string)"
   ]
  },
  {
   "cell_type": "markdown",
   "metadata": {},
   "source": [
    "### The password is a number within a given range\n",
    "\n",
    "This will give as a min and max bound for our enumeration of possible values.\n",
    "\n",
    "_This constraint is the input._"
   ]
  },
  {
   "cell_type": "code",
   "execution_count": 2,
   "metadata": {},
   "outputs": [
    {
     "data": {
      "text/plain": [
       "True"
      ]
     },
     "execution_count": 2,
     "metadata": {},
     "output_type": "execute_result"
    }
   ],
   "source": [
    "open Number\n",
    "\n",
    "module Number = \n",
    "\n",
    "    let asInt ((a,b,c,d,e,f):Number) : int =\n",
    "        a*100000+b*10000+c*1000+d*100+e*10+f\n",
    "\n",
    "    let greaterThan n2 n1 =\n",
    "        (asInt n1) > (asInt n2)\n",
    "\n",
    "    let lowerThan n2 n1 =\n",
    "        (asInt n1) < (asInt n2)\n",
    "\n",
    "\n",
    "Number.greaterThan (0,0,0,1,2,3) (0,0,0,1,2,4)"
   ]
  },
  {
   "cell_type": "markdown",
   "metadata": {},
   "source": [
    "### The password is a sequence of increasing digits\n",
    "\n",
    "By applying this constraint, we can skip many numbers.\n",
    "\n",
    "We will work with digits separately, waiting for the edge condition:\n",
    "\n",
    "> any number of consecutive nines\n",
    " \n",
    "Which we will handle performing:\n",
    " \n",
    "> increment previous digit, set the following to the same value\n",
    "\n",
    "_Since they must not be lower value_\n",
    "\n",
    "Given a starting value, we will keep computing the next lowest possible number.\n",
    "\n",
    "As an example, when given 123**499**, the next acceptable value should be 123**555**"
   ]
  },
  {
   "cell_type": "code",
   "execution_count": 3,
   "metadata": {},
   "outputs": [
    {
     "data": {
      "text/html": [
       "<table><thead><tr><th><i>index</i></th><th>Item1</th><th>Item2</th></tr></thead><tbody><tr><td>0</td><td>( 0, 0, 0, 0, 0, 0 )</td><td>(0, 0, 0, 0, 0, 1)</td></tr><tr><td>1</td><td>( 0, 0, 0, 0, 1, 1 )</td><td>(0, 0, 0, 0, 1, 2)</td></tr><tr><td>2</td><td>( 0, 0, 0, 0, 1, 9 )</td><td>(0, 0, 0, 0, 2, 2)</td></tr><tr><td>3</td><td>( 1, 2, 3, 4, 9, 9 )</td><td>(1, 2, 3, 5, 5, 5)</td></tr><tr><td>4</td><td>( 9, 9, 9, 9, 9, 9 )</td><td>Out of range</td></tr></tbody></table>"
      ]
     },
     "execution_count": 3,
     "metadata": {},
     "output_type": "execute_result"
    }
   ],
   "source": [
    "let nextNumber (n:Number) : Number option = \n",
    "    match n with\n",
    "    | (9,9,9,9,9,9) -> None\n",
    "    | (a,9,9,9,9,9) -> Some(a+1,a+1,a+1,a+1,a+1,a+1)\n",
    "    | (a,b,9,9,9,9) -> Some(a  ,b+1,b+1,b+1,b+1,b+1)\n",
    "    | (a,b,c,9,9,9) -> Some(a  ,b  ,c+1,c+1,c+1,c+1)\n",
    "    | (a,b,c,d,9,9) -> Some(a  ,b  ,c  ,d+1,d+1,d+1)\n",
    "    | (a,b,c,d,e,9) -> Some(a  ,b  ,c  ,d  ,e+1,e+1)\n",
    "    | (a,b,c,d,e,f) -> Some(a  ,b  ,c  ,d  ,e  ,f+1)\n",
    "\n",
    "[ \n",
    "    (0,0,0,0,0,0);\n",
    "    (0,0,0,0,1,1);\n",
    "    (0,0,0,0,1,9);\n",
    "    (1,2,3,4,9,9);\n",
    "    (9,9,9,9,9,9);\n",
    "] |> List.map (fun n -> match (nextNumber n) with | Some next -> (n, (string) next) | None -> (n, \"Out of range\"))"
   ]
  },
  {
   "cell_type": "markdown",
   "metadata": {},
   "source": [
    "We can now implement a password generator that implement this constraint."
   ]
  },
  {
   "cell_type": "code",
   "execution_count": 4,
   "metadata": {},
   "outputs": [
    {
     "data": {
      "text/html": [
       "<table><thead><tr><th><i>index</i></th><th>value</th></tr></thead><tbody><tr><td>0</td><td>(0, 0, 0, 0, 0, 0)</td></tr><tr><td>1</td><td>(0, 0, 0, 0, 0, 1)</td></tr><tr><td>2</td><td>(0, 0, 0, 0, 0, 2)</td></tr><tr><td>3</td><td>(0, 0, 0, 0, 0, 3)</td></tr><tr><td>4</td><td>(0, 0, 0, 0, 0, 4)</td></tr><tr><td>5</td><td>(0, 0, 0, 0, 0, 5)</td></tr><tr><td>6</td><td>(0, 0, 0, 0, 0, 6)</td></tr><tr><td>7</td><td>(0, 0, 0, 0, 0, 7)</td></tr><tr><td>8</td><td>(0, 0, 0, 0, 0, 8)</td></tr><tr><td>9</td><td>(0, 0, 0, 0, 0, 9)</td></tr></tbody></table>"
      ]
     },
     "execution_count": 4,
     "metadata": {},
     "output_type": "execute_result"
    }
   ],
   "source": [
    "let increasingDigitsNumbers = seq { \n",
    "    yield! (0,0,0,0,0,0) |> Seq.unfold (\n",
    "        // `unfold` requires returning (current state, next state) option\n",
    "        fun n -> n |> nextNumber |> Option.map (fun next -> (n,next))\n",
    "    )\n",
    "}\n",
    "\n",
    "increasingDigitsNumbers\n",
    "|> Seq.take 10\n",
    "|> Seq.map (string)"
   ]
  },
  {
   "cell_type": "markdown",
   "metadata": {},
   "source": [
    "Let's verify those generated numbers"
   ]
  },
  {
   "cell_type": "code",
   "execution_count": 5,
   "metadata": {},
   "outputs": [
    {
     "data": {
      "text/plain": [
       "0"
      ]
     },
     "execution_count": 5,
     "metadata": {},
     "output_type": "execute_result"
    }
   ],
   "source": [
    "let isIncreasingDigitsNumber ((a,b,c,d,e,f):Number) =\n",
    "    a<=b && b<=c && c<=d && d<=e && e<=f\n",
    "    \n",
    "increasingDigitsNumbers\n",
    "|> Seq.filter ((not) << isIncreasingDigitsNumber)\n",
    "|> Seq.length"
   ]
  },
  {
   "cell_type": "markdown",
   "metadata": {},
   "source": [
    "### Password contains at least two adjacent, equal digits\n",
    "\n",
    "This is pretty straight forward."
   ]
  },
  {
   "cell_type": "code",
   "execution_count": 6,
   "metadata": {},
   "outputs": [
    {
     "data": {
      "text/html": [
       "<table><thead><tr><th><i>index</i></th><th>Item1</th><th>Item2</th></tr></thead><tbody><tr><td>0</td><td>( 0, 0, 0, 0, 0, 0 )</td><td>True</td></tr><tr><td>1</td><td>( 0, 0, 0, 0, 1, 1 )</td><td>True</td></tr><tr><td>2</td><td>( 1, 2, 3, 4, 5, 6 )</td><td>False</td></tr><tr><td>3</td><td>( 1, 2, 3, 4, 9, 9 )</td><td>True</td></tr></tbody></table>"
      ]
     },
     "execution_count": 6,
     "metadata": {},
     "output_type": "execute_result"
    }
   ],
   "source": [
    "let hasAtLeastTwoAdjacentEqualDigits =\n",
    "    function\n",
    "    | (a,b,_,_,_,_) when a = b -> true\n",
    "    | (_,b,c,_,_,_) when b = c -> true\n",
    "    | (_,_,c,d,_,_) when c = d -> true\n",
    "    | (_,_,_,d,e,_) when d = e -> true\n",
    "    | (_,_,_,_,e,f) when e = f -> true\n",
    "    | _ -> false\n",
    "    \n",
    "[ \n",
    "    (0,0,0,0,0,0);\n",
    "    (0,0,0,0,1,1);\n",
    "    (1,2,3,4,5,6);\n",
    "    (1,2,3,4,9,9);\n",
    "] |> List.map (fun n -> (n, hasAtLeastTwoAdjacentEqualDigits n))"
   ]
  },
  {
   "cell_type": "markdown",
   "metadata": {},
   "source": [
    "### Test for a valid number"
   ]
  },
  {
   "cell_type": "code",
   "execution_count": 7,
   "metadata": {},
   "outputs": [],
   "source": [
    "let validPassword (n:Number) =\n",
    "    (hasAtLeastTwoAdjacentEqualDigits n) && (isIncreasingDigitsNumber n)"
   ]
  },
  {
   "cell_type": "markdown",
   "metadata": {},
   "source": [
    "## Putting it all together\n",
    "\n",
    "We can now generate all possible passwords with the given contraints"
   ]
  },
  {
   "cell_type": "code",
   "execution_count": 8,
   "metadata": {},
   "outputs": [
    {
     "data": {
      "text/html": [
       "<table><thead><tr><th><i>index</i></th><th>value</th></tr></thead><tbody><tr><td>0</td><td>(1, 1, 1, 1, 1, 1)</td></tr><tr><td>1</td><td>(0, 9, 9, 9, 9, 9)</td></tr><tr><td>2</td><td>(0, 8, 9, 9, 9, 9)</td></tr><tr><td>3</td><td>(0, 8, 8, 9, 9, 9)</td></tr></tbody></table>"
      ]
     },
     "execution_count": 8,
     "metadata": {},
     "output_type": "execute_result"
    }
   ],
   "source": [
    "let acceptablePasswordsInRange min max =\n",
    "    increasingDigitsNumbers\n",
    "    |> Seq.filter ((not) << (Number.lowerThan min))\n",
    "    |> Seq.filter ((not) << (Number.greaterThan max))\n",
    "    |> Seq.filter (hasAtLeastTwoAdjacentEqualDigits)\n",
    "\n",
    "acceptablePasswordsInRange (0,0,0,0,0,0) (1,1,1,1,1,1) |> Seq.rev |> Seq.take 4 |> Seq.map (string)"
   ]
  },
  {
   "cell_type": "markdown",
   "metadata": {},
   "source": [
    "## Test cases"
   ]
  },
  {
   "cell_type": "markdown",
   "metadata": {},
   "source": [
    "`111111` meets these criteria (double `11`, never decreases)."
   ]
  },
  {
   "cell_type": "code",
   "execution_count": 9,
   "metadata": {},
   "outputs": [
    {
     "data": {
      "text/plain": [
       "True"
      ]
     },
     "execution_count": 9,
     "metadata": {},
     "output_type": "execute_result"
    }
   ],
   "source": [
    "111111 |> Number.ofInt |> validPassword"
   ]
  },
  {
   "cell_type": "markdown",
   "metadata": {},
   "source": [
    "`223450` does not meet these criteria (decreasing pair of digits `50`)."
   ]
  },
  {
   "cell_type": "code",
   "execution_count": 10,
   "metadata": {},
   "outputs": [
    {
     "data": {
      "text/plain": [
       "False"
      ]
     },
     "execution_count": 10,
     "metadata": {},
     "output_type": "execute_result"
    }
   ],
   "source": [
    "223450 |> Number.ofInt |> validPassword"
   ]
  },
  {
   "cell_type": "markdown",
   "metadata": {},
   "source": [
    "`123789` does not meet these criteria (no double)."
   ]
  },
  {
   "cell_type": "code",
   "execution_count": 11,
   "metadata": {},
   "outputs": [
    {
     "data": {
      "text/plain": [
       "False"
      ]
     },
     "execution_count": 11,
     "metadata": {},
     "output_type": "execute_result"
    }
   ],
   "source": [
    "123789 |> Number.ofInt |> validPassword"
   ]
  },
  {
   "cell_type": "markdown",
   "metadata": {},
   "source": [
    "## Problem\n",
    "\n",
    "How many different passwords within the range given in your puzzle input meet these criteria?\n",
    "\n",
    "Your puzzle input is `197487`-`673251`."
   ]
  },
  {
   "cell_type": "code",
   "execution_count": 12,
   "metadata": {},
   "outputs": [
    {
     "data": {
      "text/html": [
       "Installing package Expecto.done!"
      ]
     },
     "metadata": {},
     "output_type": "display_data"
    },
    {
     "data": {
      "text/plain": [
       "That's the right answer! You are one gold star closer to rescuing Santa."
      ]
     },
     "execution_count": 12,
     "metadata": {},
     "output_type": "execute_result"
    }
   ],
   "source": [
    "#r \"nuget:Expecto\"\n",
    "    \n",
    "open Expecto\n",
    "\n",
    "try \n",
    "    let result = acceptablePasswordsInRange (197487 |> Number.ofInt) (673251 |> Number.ofInt) |> Seq.length\n",
    "    let expected = 1640\n",
    "    Expect.equal result expected (sprintf \"Unexpected result: %A (Should be %A)\" result expected)\n",
    "    \"That's the right answer! You are one gold star closer to rescuing Santa.\"\n",
    "with\n",
    "    | ex -> ex.ToString()"
   ]
  }
 ],
 "metadata": {
  "kernelspec": {
   "display_name": ".NET (F#)",
   "language": "F#",
   "name": ".net-fsharp"
  },
  "language_info": {
   "file_extension": ".fs",
   "mimetype": "text/x-fsharp",
   "name": "C#",
   "pygments_lexer": "fsharp",
   "version": "4.5"
  }
 },
 "nbformat": 4,
 "nbformat_minor": 4
}
