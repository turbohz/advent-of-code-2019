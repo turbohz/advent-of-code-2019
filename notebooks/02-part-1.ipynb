{
 "cells": [
  {
   "cell_type": "markdown",
   "metadata": {},
   "source": [
    "# Day 2: 1202 Program Alarm\n",
    "\n",
    "https://adventofcode.com/2019/day/2"
   ]
  },
  {
   "cell_type": "markdown",
   "metadata": {},
   "source": [
    "An Intcode program is a list of integers separated by commas (like 1,0,0,3,99). \n",
    "\n",
    "To run one, start by looking at the first integer (called position 0). Here, you will find an opcode - **either 1, 2, or 99**. \n",
    "\n",
    "The opcode indicates what to do.\n",
    "\n",
    "**Encountering an unknown opcode means something went wrong.**"
   ]
  },
  {
   "cell_type": "markdown",
   "metadata": {},
   "source": [
    "## Opcodes\n",
    "\n",
    "### Opcode **99** (HALT)\n",
    "\n",
    "It means that the program is finished and should immediately halt. \n",
    "\n",
    "### Opcode **1** (ADD)\n",
    "\n",
    "Adds together numbers read from two positions and stores the result in a third position. \n",
    "\n",
    "The three integers immediately after the opcode tell you these three positions:\n",
    "\n",
    "    - the first two indicate the positions from which you should read the input values\n",
    "    - the third indicates the position at which the output should be stored.\n",
    "\n",
    "### Opcode **2** (MUL) \n",
    "\n",
    "It works exactly like **opcode 1**, except it multiplies the two inputs instead of adding them. \n",
    "\n",
    "Again, the three integers after the opcode indicate where the inputs and outputs are, not their values."
   ]
  },
  {
   "cell_type": "code",
   "execution_count": 18,
   "metadata": {},
   "outputs": [],
   "source": [
    "type Opcode =\n",
    "    | ADD of int * int * int\n",
    "    | MUL of int * int * int\n",
    "    | HALT"
   ]
  },
  {
   "cell_type": "code",
   "execution_count": 25,
   "metadata": {},
   "outputs": [],
   "source": [
    "type Memory = int array\n",
    "type Address = int\n",
    "\n",
    "let readInstruction (mem:Memory) (ptr:Address) : Opcode =\n",
    "    match (mem.[ptr]) with\n",
    "        |  1 -> ADD (mem.[ptr+1], mem.[ptr+2], mem.[ptr+3])\n",
    "        |  2 -> MUL (mem.[ptr+1], mem.[ptr+2], mem.[ptr+3])\n",
    "        | 99 -> HALT\n",
    "        |  x -> failwith (sprintf \"Invalid opcode %A\" x)"
   ]
  },
  {
   "cell_type": "markdown",
   "metadata": {},
   "source": [
    "## Opcode discrimination\n",
    "\n",
    "_Asuming well formed memory_ \n"
   ]
  },
  {
   "cell_type": "code",
   "execution_count": 31,
   "metadata": {},
   "outputs": [
    {
     "data": {
      "text/html": [
       "<table><thead><tr><th>Item1</th><th>Item2</th><th>Item3</th><th>Tag</th><th>IsADD</th><th>IsMUL</th><th>IsHALT</th></tr></thead><tbody><tr><td>1</td><td>2</td><td>3</td><td>0</td><td>True</td><td>False</td><td>False</td></tr></tbody></table>"
      ]
     },
     "execution_count": 31,
     "metadata": {},
     "output_type": "execute_result"
    }
   ],
   "source": [
    "readInstruction [| 1; 1; 2; 3 |] 0"
   ]
  },
  {
   "cell_type": "code",
   "execution_count": 32,
   "metadata": {},
   "outputs": [
    {
     "data": {
      "text/html": [
       "<table><thead><tr><th>Item1</th><th>Item2</th><th>Item3</th><th>Tag</th><th>IsADD</th><th>IsMUL</th><th>IsHALT</th></tr></thead><tbody><tr><td>1</td><td>2</td><td>3</td><td>1</td><td>False</td><td>True</td><td>False</td></tr></tbody></table>"
      ]
     },
     "execution_count": 32,
     "metadata": {},
     "output_type": "execute_result"
    }
   ],
   "source": [
    "readInstruction [| 2; 1; 2; 3 |] 0"
   ]
  },
  {
   "cell_type": "code",
   "execution_count": 29,
   "metadata": {},
   "outputs": [
    {
     "data": {
      "text/html": [
       "<table><thead><tr><th>Tag</th><th>IsADD</th><th>IsMUL</th><th>IsHALT</th></tr></thead><tbody><tr><td>2</td><td>False</td><td>False</td><td>True</td></tr></tbody></table>"
      ]
     },
     "execution_count": 29,
     "metadata": {},
     "output_type": "execute_result"
    }
   ],
   "source": [
    "readInstruction [| 99 |] 0"
   ]
  },
  {
   "cell_type": "markdown",
   "metadata": {},
   "source": [
    "**This should fail**"
   ]
  },
  {
   "cell_type": "code",
   "execution_count": 30,
   "metadata": {},
   "outputs": [
    {
     "ename": "Unhandled exception",
     "evalue": "Invalid opcode 10",
     "output_type": "error",
     "traceback": [
      "System.Exception: Invalid opcode 10",
      "   at FSI_0026.readInstruction(Int32[] mem, Int32 ptr)",
      "   at <StartupCode$FSI_0031>.$FSI_0031.main@()"
     ]
    }
   ],
   "source": [
    "readInstruction [| 10 |] 0"
   ]
  },
  {
   "cell_type": "markdown",
   "metadata": {},
   "source": [
    "## Implement Program execution\n",
    "_Using mutable reference to memory for performance_"
   ]
  },
  {
   "cell_type": "code",
   "execution_count": 60,
   "metadata": {},
   "outputs": [
    {
     "data": {
      "text/html": [
       "<table><thead><tr><th><i>index</i></th><th>value</th></tr></thead><tbody><tr><td>0</td><td>2</td></tr><tr><td>1</td><td>0</td></tr><tr><td>2</td><td>0</td></tr><tr><td>3</td><td>0</td></tr><tr><td>4</td><td>99</td></tr></tbody></table>"
      ]
     },
     "execution_count": 60,
     "metadata": {},
     "output_type": "execute_result"
    }
   ],
   "source": [
    "let rec runProgram (mem:Memory byref) (ptr:Address) : Unit =\n",
    "    \n",
    "    match (readInstruction mem ptr) with\n",
    "        | ADD (i1,i2,o) -> \n",
    "            mem.[o] <- mem.[i1] + mem.[i2]    \n",
    "            runProgram &mem (ptr+4)\n",
    "        | MUL (i1,i2,o) -> \n",
    "            mem.[o] <- mem.[i1] * mem.[i2]\n",
    "            runProgram &mem (ptr+4)\n",
    "        | HALT -> ()"
   ]
  },
  {
   "cell_type": "markdown",
   "metadata": {},
   "source": [
    "## Test cases"
   ]
  },
  {
   "cell_type": "markdown",
   "metadata": {},
   "source": [
    "`1,0,0,0,99` becomes `2,0,0,0,99` (1 + 1 = 2)."
   ]
  },
  {
   "cell_type": "code",
   "execution_count": 62,
   "metadata": {},
   "outputs": [
    {
     "data": {
      "text/html": [
       "<table><thead><tr><th><i>index</i></th><th>value</th></tr></thead><tbody><tr><td>0</td><td>2</td></tr><tr><td>1</td><td>0</td></tr><tr><td>2</td><td>0</td></tr><tr><td>3</td><td>0</td></tr><tr><td>4</td><td>99</td></tr></tbody></table>"
      ]
     },
     "execution_count": 62,
     "metadata": {},
     "output_type": "execute_result"
    }
   ],
   "source": [
    "let mutable memTest1 = [| 1; 0; 0; 0; 99 |]\n",
    "runProgram &memTest1 0 \n",
    "memTest1"
   ]
  },
  {
   "cell_type": "markdown",
   "metadata": {},
   "source": [
    "`2,3,0,3,99` becomes `2,3,0,6,99` (3 * 2 = 6)."
   ]
  },
  {
   "cell_type": "code",
   "execution_count": 63,
   "metadata": {},
   "outputs": [
    {
     "data": {
      "text/html": [
       "<table><thead><tr><th><i>index</i></th><th>value</th></tr></thead><tbody><tr><td>0</td><td>2</td></tr><tr><td>1</td><td>3</td></tr><tr><td>2</td><td>0</td></tr><tr><td>3</td><td>6</td></tr><tr><td>4</td><td>99</td></tr></tbody></table>"
      ]
     },
     "execution_count": 63,
     "metadata": {},
     "output_type": "execute_result"
    }
   ],
   "source": [
    "let mutable memTest2 = [| 2; 3; 0; 3; 99 |]\n",
    "runProgram &memTest2 0 \n",
    "memTest2"
   ]
  },
  {
   "cell_type": "markdown",
   "metadata": {},
   "source": [
    "`2,4,4,5,99,0` becomes `2,4,4,5,99,9801` (99 * 99 = 9801)."
   ]
  },
  {
   "cell_type": "code",
   "execution_count": 65,
   "metadata": {},
   "outputs": [
    {
     "data": {
      "text/html": [
       "<table><thead><tr><th><i>index</i></th><th>value</th></tr></thead><tbody><tr><td>0</td><td>2</td></tr><tr><td>1</td><td>4</td></tr><tr><td>2</td><td>4</td></tr><tr><td>3</td><td>5</td></tr><tr><td>4</td><td>99</td></tr><tr><td>5</td><td>9801</td></tr></tbody></table>"
      ]
     },
     "execution_count": 65,
     "metadata": {},
     "output_type": "execute_result"
    }
   ],
   "source": [
    "let mutable memTest3 = [| 2; 4; 4; 5; 99; 0 |]\n",
    "runProgram &memTest3 0 \n",
    "memTest3"
   ]
  },
  {
   "cell_type": "markdown",
   "metadata": {},
   "source": [
    "`1,1,1,4,99,5,6,0,99` becomes `30,1,1,4,2,5,6,0,99`."
   ]
  },
  {
   "cell_type": "code",
   "execution_count": 68,
   "metadata": {},
   "outputs": [
    {
     "data": {
      "text/html": [
       "<table><thead><tr><th><i>index</i></th><th>value</th></tr></thead><tbody><tr><td>0</td><td>30</td></tr><tr><td>1</td><td>1</td></tr><tr><td>2</td><td>1</td></tr><tr><td>3</td><td>4</td></tr><tr><td>4</td><td>2</td></tr><tr><td>5</td><td>5</td></tr><tr><td>6</td><td>6</td></tr><tr><td>7</td><td>0</td></tr><tr><td>8</td><td>99</td></tr></tbody></table>"
      ]
     },
     "execution_count": 68,
     "metadata": {},
     "output_type": "execute_result"
    }
   ],
   "source": [
    "let mutable memTest4 = [| 1; 1; 1; 4; 99; 5; 6; 0; 99 |]\n",
    "runProgram &memTest4 0 \n",
    "memTest4"
   ]
  },
  {
   "cell_type": "markdown",
   "metadata": {},
   "source": [
    "## Problem\n",
    "\n",
    "Once you have a working computer, the first step is to restore the gravity assist program (your puzzle input) to the \"1202 program alarm\" state it had just before the last computer caught fire. \n",
    "\n",
    "To do this, before running the program, replace position 1 with the value 12 and replace position 2 with the value 2. \n",
    "\n",
    "What value is left at position 0 after the program halts?"
   ]
  }
 ],
 "metadata": {
  "kernelspec": {
   "display_name": ".NET (F#)",
   "language": "F#",
   "name": ".net-fsharp"
  },
  "language_info": {
   "file_extension": ".fs",
   "mimetype": "text/x-fsharp",
   "name": "C#",
   "pygments_lexer": "fsharp",
   "version": "4.5"
  }
 },
 "nbformat": 4,
 "nbformat_minor": 4
}
