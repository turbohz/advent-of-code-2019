{
 "cells": [
  {
   "cell_type": "markdown",
   "metadata": {},
   "source": [
    "# Day 2: 1202 Program Alarm\n",
    "\n",
    "https://adventofcode.com/2019/day/2"
   ]
  },
  {
   "cell_type": "markdown",
   "metadata": {},
   "source": [
    "An Intcode program is a list of integers separated by commas (like 1,0,0,3,99). \n",
    "\n",
    "To run one, start by looking at the first integer (called position 0). Here, you will find an opcode - **either 1, 2, or 99**. \n",
    "\n",
    "The opcode indicates what to do.\n",
    "\n",
    "**Encountering an unknown opcode means something went wrong.**"
   ]
  },
  {
   "cell_type": "markdown",
   "metadata": {},
   "source": [
    "## Opcodes\n",
    "\n",
    "### Opcode `99` (HALT)\n",
    "\n",
    "It means that the program is finished and should immediately halt. \n",
    "\n",
    "### Opcode `1` (ADD)\n",
    "\n",
    "Adds together numbers read from two positions and stores the result in a third position. \n",
    "\n",
    "The three integers immediately after the opcode tell you these three positions:\n",
    "\n",
    "    - the first two indicate the positions from which you should read the input values\n",
    "    - the third indicates the position at which the output should be stored.\n",
    "\n",
    "### Opcode `2` (MUL) \n",
    "\n",
    "It works exactly like **opcode 1**, except it multiplies the two inputs instead of adding them. \n",
    "\n",
    "Again, the three integers after the opcode indicate where the inputs and outputs are, not their values."
   ]
  },
  {
   "cell_type": "code",
   "execution_count": 81,
   "metadata": {},
   "outputs": [],
   "source": [
    "type Opcode =\n",
    "    | ADD of int * int * int\n",
    "    | MUL of int * int * int\n",
    "    | HALT"
   ]
  },
  {
   "cell_type": "code",
   "execution_count": 82,
   "metadata": {},
   "outputs": [],
   "source": [
    "type Memory = int array\n",
    "type Address = int\n",
    "\n",
    "let readInstruction (mem:Memory) (ptr:Address) : Opcode =\n",
    "    match (mem.[ptr]) with\n",
    "        |  1 -> ADD (mem.[ptr+1], mem.[ptr+2], mem.[ptr+3])\n",
    "        |  2 -> MUL (mem.[ptr+1], mem.[ptr+2], mem.[ptr+3])\n",
    "        | 99 -> HALT\n",
    "        |  x -> failwith (sprintf \"Invalid opcode %A@%A\" x ptr)"
   ]
  },
  {
   "cell_type": "markdown",
   "metadata": {},
   "source": [
    "## Opcode discrimination\n",
    "\n",
    "_Asuming well formed memory_ \n"
   ]
  },
  {
   "cell_type": "code",
   "execution_count": 83,
   "metadata": {},
   "outputs": [
    {
     "data": {
      "text/html": [
       "<table><thead><tr><th>Item1</th><th>Item2</th><th>Item3</th><th>Tag</th><th>IsADD</th><th>IsMUL</th><th>IsHALT</th></tr></thead><tbody><tr><td>1</td><td>2</td><td>3</td><td>0</td><td>True</td><td>False</td><td>False</td></tr></tbody></table>"
      ]
     },
     "execution_count": 83,
     "metadata": {},
     "output_type": "execute_result"
    }
   ],
   "source": [
    "readInstruction [| 1; 1; 2; 3 |] 0"
   ]
  },
  {
   "cell_type": "code",
   "execution_count": 84,
   "metadata": {},
   "outputs": [
    {
     "data": {
      "text/html": [
       "<table><thead><tr><th>Item1</th><th>Item2</th><th>Item3</th><th>Tag</th><th>IsADD</th><th>IsMUL</th><th>IsHALT</th></tr></thead><tbody><tr><td>1</td><td>2</td><td>3</td><td>1</td><td>False</td><td>True</td><td>False</td></tr></tbody></table>"
      ]
     },
     "execution_count": 84,
     "metadata": {},
     "output_type": "execute_result"
    }
   ],
   "source": [
    "readInstruction [| 2; 1; 2; 3 |] 0"
   ]
  },
  {
   "cell_type": "code",
   "execution_count": 85,
   "metadata": {},
   "outputs": [
    {
     "data": {
      "text/html": [
       "<table><thead><tr><th>Tag</th><th>IsADD</th><th>IsMUL</th><th>IsHALT</th></tr></thead><tbody><tr><td>2</td><td>False</td><td>False</td><td>True</td></tr></tbody></table>"
      ]
     },
     "execution_count": 85,
     "metadata": {},
     "output_type": "execute_result"
    }
   ],
   "source": [
    "readInstruction [| 99 |] 0"
   ]
  },
  {
   "cell_type": "markdown",
   "metadata": {},
   "source": [
    "**This should fail**"
   ]
  },
  {
   "cell_type": "code",
   "execution_count": 86,
   "metadata": {},
   "outputs": [
    {
     "ename": "Unhandled exception",
     "evalue": "Invalid opcode 10@0",
     "output_type": "error",
     "traceback": [
      "System.Exception: Invalid opcode 10@0",
      "   at FSI_0092.readInstruction(Int32[] mem, Int32 ptr)",
      "   at <StartupCode$FSI_0096>.$FSI_0096.main@()"
     ]
    }
   ],
   "source": [
    "readInstruction [| 10 |] 0"
   ]
  },
  {
   "cell_type": "markdown",
   "metadata": {},
   "source": [
    "## Implement Program execution\n",
    "_Using mutable reference to memory for performance_"
   ]
  },
  {
   "cell_type": "code",
   "execution_count": 87,
   "metadata": {},
   "outputs": [],
   "source": [
    "let rec runProgram (mem:Memory byref) (ptr:Address) : Unit =\n",
    "    \n",
    "    match (readInstruction mem ptr) with\n",
    "        | ADD (i1,i2,o) -> \n",
    "            mem.[o] <- mem.[i1] + mem.[i2]    \n",
    "            runProgram &mem (ptr+4)\n",
    "        | MUL (i1,i2,o) -> \n",
    "            mem.[o] <- mem.[i1] * mem.[i2]\n",
    "            runProgram &mem (ptr+4)\n",
    "        | HALT -> ()"
   ]
  },
  {
   "cell_type": "markdown",
   "metadata": {},
   "source": [
    "## Test cases"
   ]
  },
  {
   "cell_type": "markdown",
   "metadata": {},
   "source": [
    "`1,0,0,0,99` becomes `2,0,0,0,99` (1 + 1 = 2)."
   ]
  },
  {
   "cell_type": "code",
   "execution_count": 88,
   "metadata": {},
   "outputs": [
    {
     "data": {
      "text/html": [
       "<table><thead><tr><th><i>index</i></th><th>value</th></tr></thead><tbody><tr><td>0</td><td>2</td></tr><tr><td>1</td><td>0</td></tr><tr><td>2</td><td>0</td></tr><tr><td>3</td><td>0</td></tr><tr><td>4</td><td>99</td></tr></tbody></table>"
      ]
     },
     "execution_count": 88,
     "metadata": {},
     "output_type": "execute_result"
    }
   ],
   "source": [
    "let mutable memTest1 = [| 1; 0; 0; 0; 99 |]\n",
    "runProgram &memTest1 0 \n",
    "memTest1"
   ]
  },
  {
   "cell_type": "markdown",
   "metadata": {},
   "source": [
    "`2,3,0,3,99` becomes `2,3,0,6,99` (3 * 2 = 6)."
   ]
  },
  {
   "cell_type": "code",
   "execution_count": 89,
   "metadata": {},
   "outputs": [
    {
     "data": {
      "text/html": [
       "<table><thead><tr><th><i>index</i></th><th>value</th></tr></thead><tbody><tr><td>0</td><td>2</td></tr><tr><td>1</td><td>3</td></tr><tr><td>2</td><td>0</td></tr><tr><td>3</td><td>6</td></tr><tr><td>4</td><td>99</td></tr></tbody></table>"
      ]
     },
     "execution_count": 89,
     "metadata": {},
     "output_type": "execute_result"
    }
   ],
   "source": [
    "let mutable memTest2 = [| 2; 3; 0; 3; 99 |]\n",
    "runProgram &memTest2 0 \n",
    "memTest2"
   ]
  },
  {
   "cell_type": "markdown",
   "metadata": {},
   "source": [
    "`2,4,4,5,99,0` becomes `2,4,4,5,99,9801` (99 * 99 = 9801)."
   ]
  },
  {
   "cell_type": "code",
   "execution_count": 90,
   "metadata": {},
   "outputs": [
    {
     "data": {
      "text/html": [
       "<table><thead><tr><th><i>index</i></th><th>value</th></tr></thead><tbody><tr><td>0</td><td>2</td></tr><tr><td>1</td><td>4</td></tr><tr><td>2</td><td>4</td></tr><tr><td>3</td><td>5</td></tr><tr><td>4</td><td>99</td></tr><tr><td>5</td><td>9801</td></tr></tbody></table>"
      ]
     },
     "execution_count": 90,
     "metadata": {},
     "output_type": "execute_result"
    }
   ],
   "source": [
    "let mutable memTest3 = [| 2; 4; 4; 5; 99; 0 |]\n",
    "runProgram &memTest3 0 \n",
    "memTest3"
   ]
  },
  {
   "cell_type": "markdown",
   "metadata": {},
   "source": [
    "`1,1,1,4,99,5,6,0,99` becomes `30,1,1,4,2,5,6,0,99`."
   ]
  },
  {
   "cell_type": "code",
   "execution_count": 91,
   "metadata": {},
   "outputs": [
    {
     "data": {
      "text/html": [
       "<table><thead><tr><th><i>index</i></th><th>value</th></tr></thead><tbody><tr><td>0</td><td>30</td></tr><tr><td>1</td><td>1</td></tr><tr><td>2</td><td>1</td></tr><tr><td>3</td><td>4</td></tr><tr><td>4</td><td>2</td></tr><tr><td>5</td><td>5</td></tr><tr><td>6</td><td>6</td></tr><tr><td>7</td><td>0</td></tr><tr><td>8</td><td>99</td></tr></tbody></table>"
      ]
     },
     "execution_count": 91,
     "metadata": {},
     "output_type": "execute_result"
    }
   ],
   "source": [
    "let mutable memTest4 = [| 1; 1; 1; 4; 99; 5; 6; 0; 99 |]\n",
    "runProgram &memTest4 0 \n",
    "memTest4"
   ]
  },
  {
   "cell_type": "markdown",
   "metadata": {},
   "source": [
    "### Input\n",
    "\n",
    "The input is provided as a long list of values separated by commas.\n",
    "\n",
    "We need to parse that first into and Array."
   ]
  },
  {
   "cell_type": "code",
   "execution_count": null,
   "metadata": {},
   "outputs": [],
   "source": []
  },
  {
   "cell_type": "code",
   "execution_count": 92,
   "metadata": {},
   "outputs": [
    {
     "data": {
      "text/html": [
       "<table><thead><tr><th><i>index</i></th><th>value</th></tr></thead><tbody><tr><td>0</td><td>1</td></tr><tr><td>1</td><td>0</td></tr><tr><td>2</td><td>0</td></tr><tr><td>3</td><td>3</td></tr><tr><td>4</td><td>1</td></tr><tr><td>5</td><td>1</td></tr><tr><td>6</td><td>2</td></tr><tr><td>7</td><td>3</td></tr><tr><td>8</td><td>1</td></tr><tr><td>9</td><td>3</td></tr></tbody></table>"
      ]
     },
     "execution_count": 92,
     "metadata": {},
     "output_type": "execute_result"
    }
   ],
   "source": [
    "let inputFilePath = \"./02-input-1.txt\"\n",
    "\n",
    "let input = System.IO.File.ReadAllLines(inputFilePath).[0].Split(\",\")\n",
    "\n",
    "Array.take 10 input"
   ]
  },
  {
   "cell_type": "markdown",
   "metadata": {},
   "source": [
    "## Problem\n",
    "\n",
    "Once you have a working computer, the first step is to restore the gravity assist program (your puzzle input) to the \"1202 program alarm\" state it had just before the last computer caught fire. \n",
    "\n",
    "To do this, before running the program, **replace position 1 with the value 12** and **replace position 2 with the value 2**. \n",
    "\n",
    "What value is left at position 0 after the program halts?"
   ]
  },
  {
   "cell_type": "code",
   "execution_count": 96,
   "metadata": {},
   "outputs": [
    {
     "data": {
      "text/plain": [
       "That's the right answer! You are one gold star closer to rescuing Santa."
      ]
     },
     "execution_count": 96,
     "metadata": {},
     "output_type": "execute_result"
    }
   ],
   "source": [
    "#r \"nuget:Expecto\"\n",
    "    \n",
    "open Expecto\n",
    "\n",
    "let mutable mem = input |> Array.map (int)\n",
    "\n",
    "do \n",
    "    mem.[1] <- 12\n",
    "    mem.[2] <- 2\n",
    "\n",
    "try \n",
    "    do runProgram &mem 0\n",
    "    let result = mem.[0]\n",
    "    let expected = 9706670\n",
    "    Expect.equal result expected (sprintf \"Unexpected result: %A (Should be %A)\" result expected)\n",
    "    \"That's the right answer! You are one gold star closer to rescuing Santa.\"\n",
    "with\n",
    "    | ex -> ex.ToString()"
   ]
  }
 ],
 "metadata": {
  "kernelspec": {
   "display_name": ".NET (F#)",
   "language": "F#",
   "name": ".net-fsharp"
  },
  "language_info": {
   "file_extension": ".fs",
   "mimetype": "text/x-fsharp",
   "name": "C#",
   "pygments_lexer": "fsharp",
   "version": "4.5"
  }
 },
 "nbformat": 4,
 "nbformat_minor": 4
}
