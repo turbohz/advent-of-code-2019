{
 "cells": [
  {
   "cell_type": "markdown",
   "metadata": {},
   "source": [
    "# Day 3: Crossed Wires\n",
    "\n",
    "https://adventofcode.com/2019/day/3"
   ]
  },
  {
   "cell_type": "markdown",
   "metadata": {},
   "source": [
    "Two **wires** are connected to a **central port** and extend outward on a **grid**. \n",
    "\n",
    "You trace the path each wire takes as it leaves the central port, one wire per line of text.\n",
    "\n",
    "For example, if the first wire's path is `R8,U5,L5,D3`, then starting from the central port (o), \n",
    "\n",
    "it goes right 8, up 5, left 5, and finally down 3:\n",
    "\n",
    "```\n",
    "...........\n",
    "...........\n",
    "...........\n",
    "....+----+.\n",
    "....|....|.\n",
    "....|....|.\n",
    "....|....|.\n",
    ".........|.\n",
    ".o-------+.\n",
    "...........\n",
    "```"
   ]
  },
  {
   "cell_type": "code",
   "execution_count": 39,
   "metadata": {},
   "outputs": [
    {
     "data": {
      "text/html": [
       "<table><thead><tr><th><i>index</i></th><th>Tag</th><th>Item1</th><th>Item2</th></tr></thead><tbody><tr><td>0</td><td>0</td><td>{ FSI_0042+Command+Direction: Tag: 3, IsU: False, IsD: False, IsL: False, IsR: True }</td><td>8</td></tr><tr><td>1</td><td>0</td><td>{ FSI_0042+Command+Direction: Tag: 0, IsU: True, IsD: False, IsL: False, IsR: False }</td><td>5</td></tr><tr><td>2</td><td>0</td><td>{ FSI_0042+Command+Direction: Tag: 2, IsU: False, IsD: False, IsL: True, IsR: False }</td><td>5</td></tr><tr><td>3</td><td>0</td><td>{ FSI_0042+Command+Direction: Tag: 1, IsU: False, IsD: True, IsL: False, IsR: False }</td><td>3</td></tr></tbody></table>"
      ]
     },
     "execution_count": 39,
     "metadata": {},
     "output_type": "execute_result"
    }
   ],
   "source": [
    "module Command =\n",
    "    \n",
    "    type Distance = int\n",
    "    \n",
    "    type Direction =\n",
    "        | U\n",
    "        | D\n",
    "        | L\n",
    "        | R\n",
    "        static member ofChar c : Direction =\n",
    "            match c with\n",
    "            | 'U' -> U\n",
    "            | 'D' -> D\n",
    "            | 'L' -> L\n",
    "            | 'R' -> R\n",
    "            | X -> failwith (sprintf \"Invalid direction %A\" X) \n",
    "    \n",
    "    type Command = \n",
    "        | Command of Direction * Distance\n",
    "        static member ofString (s:String) : Command = \n",
    "            \n",
    "            let (dir,dist) = \n",
    "                match s |> Seq.toList with\n",
    "                | dir::[dist] -> (Direction.ofChar dir, Int32.Parse (string dist))\n",
    "                |  _ -> failwith (sprintf \"Invalid command string %A\" s)  \n",
    "                    \n",
    "            Command ( dir , dist )\n",
    "\n",
    "module Example =\n",
    "    \n",
    "    open Command\n",
    "    \n",
    "    let input = \"R8,U5,L5,D3\"\n",
    "    let getCommands () = \n",
    "        input.Split(\",\") \n",
    "        |> Seq.ofArray\n",
    "        |> Seq.map Command.ofString\n",
    "\n",
    "Example.getCommands ()"
   ]
  }
 ],
 "metadata": {
  "kernelspec": {
   "display_name": ".NET (F#)",
   "language": "F#",
   "name": ".net-fsharp"
  },
  "language_info": {
   "file_extension": ".fs",
   "mimetype": "text/x-fsharp",
   "name": "C#",
   "pygments_lexer": "fsharp",
   "version": "4.5"
  }
 },
 "nbformat": 4,
 "nbformat_minor": 4
}
