{
 "cells": [
  {
   "cell_type": "markdown",
   "metadata": {},
   "source": [
    "# Day 3: Crossed Wires\n",
    "\n",
    "https://adventofcode.com/2019/day/3"
   ]
  },
  {
   "cell_type": "markdown",
   "metadata": {},
   "source": [
    "Two **wires** are connected to a **central port** and extend outward on a **grid**. \n",
    "\n",
    "You trace the path each wire takes as it leaves the central port, one wire per line of text.\n",
    "\n",
    "## Commands\n",
    "\n",
    "If the first wire's path is `R8,U5,L5,D3`, then starting from the central port (o), \n",
    "\n",
    "it goes right 8, up 5, left 5, and finally down 3:\n",
    "\n",
    "```\n",
    "...........\n",
    "...........\n",
    "...........\n",
    "....+----+.\n",
    "....|....|.\n",
    "....|....|.\n",
    "....|....|.\n",
    ".........|.\n",
    ".o-------+.\n",
    "...........\n",
    "```"
   ]
  },
  {
   "cell_type": "code",
   "execution_count": 64,
   "metadata": {},
   "outputs": [
    {
     "data": {
      "text/html": [
       "<table><thead><tr><th><i>index</i></th><th>value</th></tr></thead><tbody><tr><td>0</td><td>Command (R,8)</td></tr><tr><td>1</td><td>Command (U,5)</td></tr><tr><td>2</td><td>Command (L,5)</td></tr><tr><td>3</td><td>Command (D,3)</td></tr></tbody></table>"
      ]
     },
     "execution_count": 64,
     "metadata": {},
     "output_type": "execute_result"
    }
   ],
   "source": [
    "module Command =\n",
    "    \n",
    "    type Distance = int\n",
    "    \n",
    "    type Direction =\n",
    "        | U\n",
    "        | D\n",
    "        | L\n",
    "        | R\n",
    "        static member ofChar c : Direction =\n",
    "            match c with\n",
    "            | 'U' -> U\n",
    "            | 'D' -> D\n",
    "            | 'L' -> L\n",
    "            | 'R' -> R\n",
    "            | X -> failwith (sprintf \"Invalid direction %A\" X) \n",
    "    \n",
    "    type Command = \n",
    "        | Command of Direction * Distance\n",
    "        static member ofString (s:String) : Command = \n",
    "            \n",
    "            let (dir,dist) = \n",
    "                match s |> Seq.toList with\n",
    "                | dir::[dist] -> (Direction.ofChar dir, Int32.Parse (string dist))\n",
    "                |  _ -> failwith (sprintf \"Invalid command string %A\" s)  \n",
    "                    \n",
    "            Command ( dir , dist )\n",
    "    \n",
    "    let parse (input:String) : Command seq =\n",
    "        input.Split(\",\") \n",
    "        |> Seq.ofArray\n",
    "        |> Seq.map Command.ofString\n",
    "\n",
    "\n",
    "\"R8,U5,L5,D3\" |> Command.parse |> Seq.map (string)"
   ]
  },
  {
   "cell_type": "markdown",
   "metadata": {},
   "source": [
    "# Problem\n",
    "\n",
    "The wires twist and turn, but the two wires occasionally cross paths. \n",
    "\n",
    "To fix the circuit, you need to find the intersection point closest to the central port. \n",
    "\n",
    "Because the wires are on a grid, use the [Manhattan distance](https://en.wikipedia.org/wiki/Taxicab_geometry) for this measurement. \n",
    "\n",
    "While the wires do technically cross right at the central port where they both start, \n",
    "\n",
    "this point does not count, nor does a wire count as crossing with itself."
   ]
  },
  {
   "cell_type": "markdown",
   "metadata": {},
   "source": [
    "# A couple wires\n",
    "\n",
    "Since we are working on a grid, we can consider a wire a collection of points.\n",
    "\n",
    "The intersection of two wires are the points they have in common.\n",
    "\n",
    "- To compute all the `Point`s that make a `Wire`, we will use a `Cursor` that will \n",
    "follow the provided `Commands`.\n",
    "\n",
    "- In order to simplify the `Cursor` behavior, the `Commands` will expanded to perform single steps."
   ]
  },
  {
   "cell_type": "code",
   "execution_count": 65,
   "metadata": {},
   "outputs": [],
   "source": [
    "open Command\n",
    "\n",
    "type Point = \n",
    "    | Point of int*int\n",
    "\n",
    "// extend Command definition\n",
    "\n",
    "type Command with\n",
    "    // return a sequence of single steps (as Direction)\n",
    "    static member AsDirections (c:Command) : Direction seq =\n",
    "        let (Command (dir, dist)) = c\n",
    "        seq { for i in 1 .. dist -> dir }\n",
    "\n",
    "type Cursor(p:Point) =\n",
    "    let mutable position = p\n",
    "    member self.Move (d:Direction) =\n",
    "        let (Point (x,y)) = position\n",
    "        match d with\n",
    "        | U -> position <- Point(x,y+1)\n",
    "        | D -> position <- Point(x,y-1)\n",
    "        | L -> position <- Point(x-1,y)\n",
    "        | R -> position <- Point(x+1,y)\n",
    "    member self.Position with get() = position\n",
    "\n",
    "let generatePoints (commands:Command seq) : Point seq =\n",
    "    \n",
    "    // create a cursor at the start position\n",
    "    \n",
    "    let cursor = Cursor (Point (0,0))\n",
    "    \n",
    "    // return a sequence ...\n",
    "    \n",
    "    seq {\n",
    "        \n",
    "        // ... with first item being the central point\n",
    "        \n",
    "        yield cursor.Position\n",
    "            \n",
    "        // .. followed by\n",
    "    \n",
    "        for command in commands do\n",
    "            \n",
    "            // .. sequence of points each command makes the cursor visit\n",
    "            \n",
    "            yield!  command\n",
    "                    |> Command.AsDirections // convert to multiple single steps (as a sequence of Direction)\n",
    "                    |> Seq.map ( fun d -> \n",
    "                                    do cursor.Move d   // move cursor one step as specified direction\n",
    "                                    cursor.Position    // return the position the cursor it's at\n",
    "                    ) //each position the cursor visits\n",
    "    }\n"
   ]
  },
  {
   "cell_type": "markdown",
   "metadata": {},
   "source": [
    "# Example\n",
    "\n",
    "If the first wire's path is `R8,U5,L5,D3`, then starting from the central port (o), it lands at point **(3,2)**.\n",
    "\n",
    "```\n",
    "...........\n",
    "...........\n",
    "...........\n",
    "....+----+.\n",
    "....|....|.\n",
    "....|....|.\n",
    "....|....|.\n",
    ".........|.\n",
    ".o-------+.\n",
    "...........\n",
    "```\n"
   ]
  },
  {
   "cell_type": "code",
   "execution_count": 68,
   "metadata": {},
   "outputs": [
    {
     "data": {
      "text/plain": [
       "Point (3,2)"
      ]
     },
     "execution_count": 68,
     "metadata": {},
     "output_type": "execute_result"
    }
   ],
   "source": [
    "let example_wire_1 = \"R8,U5,L5,D3\"\n",
    "\n",
    "example_wire_1 |> Command.parse |> generatePoints |> Seq.rev |> Seq.head |> (string)"
   ]
  },
  {
   "cell_type": "markdown",
   "metadata": {},
   "source": [
    "Then, if the second wire's path is `U7,R6,D4,L4`, it goes up 7, right 6, down 4, and left 4,\n",
    "landing at **(2,3)**\n",
    "\n",
    "```\n",
    "...........\n",
    ".+-----+...\n",
    ".|.....|...\n",
    ".|..+--X-+.\n",
    ".|..|..|.|.\n",
    ".|.-X--+.|.\n",
    ".|..|....|.\n",
    ".|.......|.\n",
    ".o-------+.\n",
    "...........\n",
    "\n",
    "```"
   ]
  },
  {
   "cell_type": "code",
   "execution_count": 70,
   "metadata": {},
   "outputs": [
    {
     "data": {
      "text/plain": [
       "Point (2,3)"
      ]
     },
     "execution_count": 70,
     "metadata": {},
     "output_type": "execute_result"
    }
   ],
   "source": [
    "let example_wire_2 = \"U7,R6,D4,L4\"\n",
    "\n",
    "example_wire_2 |> Command.parse |> generatePoints |> Seq.rev |> Seq.head |> (string)"
   ]
  }
 ],
 "metadata": {
  "kernelspec": {
   "display_name": ".NET (F#)",
   "language": "F#",
   "name": ".net-fsharp"
  },
  "language_info": {
   "file_extension": ".fs",
   "mimetype": "text/x-fsharp",
   "name": "C#",
   "pygments_lexer": "fsharp",
   "version": "4.5"
  }
 },
 "nbformat": 4,
 "nbformat_minor": 4
}
