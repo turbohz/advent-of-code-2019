{
 "cells": [
  {
   "cell_type": "markdown",
   "metadata": {},
   "source": [
    "# Day 3: Crossed Wires\n",
    "\n",
    "https://adventofcode.com/2019/day/3"
   ]
  },
  {
   "cell_type": "markdown",
   "metadata": {},
   "source": [
    "Two **wires** are connected to a **central port** and extend outward on a **grid**. \n",
    "\n",
    "You trace the path each wire takes as it leaves the central port, one wire per line of text.\n",
    "\n",
    "## Commands\n",
    "\n",
    "If the first wire's path is `R8,U5,L5,D3`, then starting from the central port (o), \n",
    "\n",
    "it goes right 8, up 5, left 5, and finally down 3:\n",
    "\n",
    "```\n",
    "...........\n",
    "...........\n",
    "...........\n",
    "....+----+.\n",
    "....|....|.\n",
    "....|....|.\n",
    "....|....|.\n",
    ".........|.\n",
    ".o-------+.\n",
    "...........\n",
    "```"
   ]
  },
  {
   "cell_type": "code",
   "execution_count": 348,
   "metadata": {},
   "outputs": [
    {
     "data": {
      "text/html": [
       "<table><thead><tr><th><i>index</i></th><th>value</th></tr></thead><tbody><tr><td>0</td><td>Command (R,8)</td></tr><tr><td>1</td><td>Command (U,5)</td></tr><tr><td>2</td><td>Command (L,5)</td></tr><tr><td>3</td><td>Command (D,3)</td></tr></tbody></table>"
      ]
     },
     "execution_count": 348,
     "metadata": {},
     "output_type": "execute_result"
    }
   ],
   "source": [
    "module Command =\n",
    "    \n",
    "    type Distance = int\n",
    "    \n",
    "    type Direction =\n",
    "        | U\n",
    "        | D\n",
    "        | L\n",
    "        | R\n",
    "        static member ofChar c : Direction =\n",
    "            match c with\n",
    "            | 'U' -> U\n",
    "            | 'D' -> D\n",
    "            | 'L' -> L\n",
    "            | 'R' -> R\n",
    "            | X -> failwith (sprintf \"Invalid direction %A\" X) \n",
    "    \n",
    "    type Command = \n",
    "        | Command of Direction * Distance\n",
    "        static member ofString (s:String) : Command = \n",
    "            \n",
    "            let intFromCharSeq s = s |> Array.ofSeq |> String |> Int32.Parse\n",
    "            \n",
    "            let (dir,dist) = \n",
    "                match s |> Seq.toList with\n",
    "                | dir::dist -> (Direction.ofChar dir, intFromCharSeq dist)\n",
    "                |  _ -> failwith (sprintf \"Invalid command string %A\" s)  \n",
    "                    \n",
    "            Command ( dir , dist )\n",
    "    \n",
    "    let parse (input:String) : Command seq =\n",
    "        input.Split(\",\") \n",
    "        |> Seq.ofArray\n",
    "        |> Seq.map Command.ofString\n",
    "\n",
    "\n",
    "open Command\n",
    "\n",
    "\"R8,U5,L5,D3\" |> Command.parse |> Seq.map (string)"
   ]
  },
  {
   "cell_type": "markdown",
   "metadata": {},
   "source": [
    "## Points\n",
    "\n",
    "To fix the circuit, you need to find the intersection point closest to the central port. \n",
    "\n",
    "Because the wires are on a grid, use the [Manhattan distance](https://en.wikipedia.org/wiki/Taxicab_geometry) for this measurement. \n",
    "\n",
    "These wires cross at two locations (Edit: _3,3 and 6,6_), but the lower-left one is closer to the central port: its distance is 3 + 3 = 6."
   ]
  },
  {
   "cell_type": "code",
   "execution_count": 349,
   "metadata": {},
   "outputs": [
    {
     "data": {
      "text/plain": [
       "6"
      ]
     },
     "execution_count": 349,
     "metadata": {},
     "output_type": "execute_result"
    }
   ],
   "source": [
    "module Point=\n",
    "    \n",
    "    type Point = \n",
    "        | Point of int*int\n",
    "        static member distanceTo (Point (x1,y1)) (Point (x2,y2)) : int =  abs(x1-x2) + abs(y1-y2)\n",
    "        static member distance (p:Point) : int = Point.distanceTo p (Point (0,0))\n",
    "\n",
    "open Point \n",
    "\n",
    "Point (3,3) |> Point.distance"
   ]
  },
  {
   "cell_type": "markdown",
   "metadata": {},
   "source": [
    "## Wires\n",
    "\n",
    "The wires twist and turn, but the two wires occasionally cross paths. \n",
    "\n",
    "While the wires do technically cross right at the central port where they both start, \n",
    "\n",
    "this point does not count, nor does a wire count as crossing with itself."
   ]
  },
  {
   "cell_type": "markdown",
   "metadata": {},
   "source": [
    "> Since we are working on a grid, we can consider a wire a collection of points.\n",
    ">\n",
    "> The intersection of two wires are the points they have in common.\n",
    ">\n",
    "> - To compute all the `Point`s that make a `Wire`, we will use a `Cursor` that will \n",
    "follow the provided `Commands`.\n",
    "> - In order to simplify the `Cursor` behavior, the `Commands` will expanded to perform single steps."
   ]
  },
  {
   "cell_type": "code",
   "execution_count": 350,
   "metadata": {},
   "outputs": [],
   "source": [
    "open Command\n",
    "\n",
    "// extend Command definition\n",
    "\n",
    "type Command with\n",
    "    // return a sequence of single steps (as Direction)\n",
    "    static member AsDirections (c:Command) : Direction seq =\n",
    "        let (Command (dir, dist)) = c\n",
    "        seq { for i in 1 .. dist -> dir }\n",
    "\n",
    "module Cursor = \n",
    "    \n",
    "    open Command\n",
    "    open Point\n",
    "    \n",
    "    type Cursor(p:Point) =\n",
    "        let mutable position = p\n",
    "        member self.Move (d:Direction) =\n",
    "            let (Point (x,y)) = position\n",
    "            match d with\n",
    "            | U -> position <- Point(x,y+1)\n",
    "            | D -> position <- Point(x,y-1)\n",
    "            | L -> position <- Point(x-1,y)\n",
    "            | R -> position <- Point(x+1,y)\n",
    "        member self.Position with get() = position\n",
    "\n",
    "module Wire =\n",
    "    \n",
    "    open Command\n",
    "    open Point\n",
    "    open Cursor\n",
    "    \n",
    "    type Wire = \n",
    "        | Wire of Command seq\n",
    "        \n",
    "        static member ofString s : Wire = Wire (Command.parse s)\n",
    "            \n",
    "        static member getPoints (Wire commands) : Point seq =\n",
    "    \n",
    "            // create a cursor at the start position\n",
    "\n",
    "            let cursor = Cursor (Point (0,0))\n",
    "\n",
    "            seq { // return a sequence ...\n",
    "\n",
    "                yield cursor.Position // ... with first item being the \"central point\"\n",
    "\n",
    "                for command in commands do  // .. followed by\n",
    "                    \n",
    "                    // .. sequence of points each command makes the cursor visit\n",
    "                    yield!  command\n",
    "                            |> Command.AsDirections // convert to multiple single steps (as a sequence of Direction)\n",
    "                            |> Seq.map ( fun d -> \n",
    "                                            do cursor.Move d   // move cursor one step as specified direction\n",
    "                                            cursor.Position    // return the position the cursor it's at\n",
    "                            ) //each position the cursor visits\n",
    "            }\n"
   ]
  },
  {
   "cell_type": "markdown",
   "metadata": {},
   "source": [
    "# Example\n",
    "\n",
    "If the first wire's path is `R8,U5,L5,D3`, then starting from the central port (o), it lands at point **(3,2)**.\n",
    "\n",
    "```\n",
    "...........\n",
    "...........\n",
    "...........\n",
    "....+----+.\n",
    "....|....|.\n",
    "....|....|.\n",
    "2...X....|.\n",
    ".........|.\n",
    ".o-------+.\n",
    "....3......\n",
    "```\n"
   ]
  },
  {
   "cell_type": "code",
   "execution_count": 351,
   "metadata": {},
   "outputs": [
    {
     "data": {
      "text/plain": [
       "Point (3,2)"
      ]
     },
     "execution_count": 351,
     "metadata": {},
     "output_type": "execute_result"
    }
   ],
   "source": [
    "open Wire\n",
    "\"R8,U5,L5,D3\" |> Wire.ofString |> Wire.getPoints |> Seq.rev |> Seq.head |> (string)"
   ]
  },
  {
   "cell_type": "markdown",
   "metadata": {},
   "source": [
    "Then, if the second wire's path is `U7,R6,D4,L4`, it goes up 7, right 6, down 4, and left 4,\n",
    "landing at **(2,3)**\n",
    "\n",
    "```\n",
    "...........\n",
    ".+-----+...\n",
    ".|.....|...\n",
    ".|.....|...\n",
    ".|.....|...\n",
    "3|.X---+...\n",
    ".|.........\n",
    ".|.........\n",
    ".o.........\n",
    "...2.......\n",
    "\n",
    "```"
   ]
  },
  {
   "cell_type": "code",
   "execution_count": 352,
   "metadata": {},
   "outputs": [
    {
     "data": {
      "text/html": [
       "<table><thead><tr><th>Tag</th><th>Item1</th><th>Item2</th></tr></thead><tbody><tr><td>0</td><td>2</td><td>3</td></tr></tbody></table>"
      ]
     },
     "execution_count": 352,
     "metadata": {},
     "output_type": "execute_result"
    }
   ],
   "source": [
    "open Wire\n",
    "\"U7,R6,D4,L4\" |> Wire.ofString |> Wire.getPoints |> Seq.rev |> Seq.head"
   ]
  },
  {
   "cell_type": "markdown",
   "metadata": {},
   "source": [
    "## Intersect\n",
    "\n",
    "To find the intersection points, we just need to find common points in both wires. \n",
    "\n",
    "For that we will use [Set.intersect](https://msdn.microsoft.com/visualfsharpdocs/conceptual/set.intersect%5b%27t%5d-function-%5bfsharp%5d), after converting sequence of points to sets. \n",
    "\n",
    "We must exclude the root node `(0,0)`, which in our case is the **first** of the sequence of points."
   ]
  },
  {
   "cell_type": "code",
   "execution_count": 353,
   "metadata": {},
   "outputs": [
    {
     "data": {
      "text/plain": [
       "set [Point (0,0); Point (3,3); Point (6,5)]"
      ]
     },
     "execution_count": 353,
     "metadata": {},
     "output_type": "execute_result"
    }
   ],
   "source": [
    "open Wire\n",
    "\n",
    "type Wire with\n",
    "\n",
    "    static member intersect (w1:Wire) (w2:Wire) : Set<Point> =\n",
    "    \n",
    "        let points_w1 = w1 |> Wire.getPoints |> Set.ofSeq\n",
    "        let points_w2 = w2 |> Wire.getPoints |> Set.ofSeq\n",
    "\n",
    "        Set.intersect points_w1 points_w2\n",
    "        \n",
    "Wire.intersect (Wire.ofString \"R8,U5,L5,D3\") (Wire.ofString \"U7,R6,D4,L4\") |> (string)"
   ]
  },
  {
   "cell_type": "markdown",
   "metadata": {},
   "source": [
    "These wires cross at two locations (marked X), but the lower-left one \n",
    "\n",
    "is closer to the central port: **its distance is 3 + 3 = 6.**"
   ]
  },
  {
   "cell_type": "code",
   "execution_count": 354,
   "metadata": {},
   "outputs": [
    {
     "data": {
      "text/plain": [
       "6"
      ]
     },
     "execution_count": 354,
     "metadata": {},
     "output_type": "execute_result"
    }
   ],
   "source": [
    "open Wire\n",
    "open Point\n",
    "\n",
    "type Wire with\n",
    "    \n",
    "    static member intersection (w1:Wire) (w2:Wire) : int =\n",
    "        \n",
    "        Wire.intersect w1 w2 \n",
    "        |> Set.map Point.distance\n",
    "        |> Seq.sort\n",
    "        |> Seq.tail // skip central point (0,0), which has distance 0\n",
    "        |> Seq.head // take next point with lowest distance\n",
    "\n",
    "Wire.intersection (Wire.ofString \"R8,U5,L5,D3\") (Wire.ofString \"U7,R6,D4,L4\") |> (string)"
   ]
  },
  {
   "cell_type": "markdown",
   "metadata": {},
   "source": [
    "## Test cases"
   ]
  },
  {
   "cell_type": "markdown",
   "metadata": {},
   "source": [
    "`R75,D30,R83,U83,L12,D49,R71,U7,L72`\n",
    "\n",
    "`U62,R66,U55,R34,D71,R55,D58,R83`\n",
    "\n",
    "= distance 159"
   ]
  },
  {
   "cell_type": "code",
   "execution_count": 355,
   "metadata": {},
   "outputs": [
    {
     "data": {
      "text/plain": [
       "159"
      ]
     },
     "execution_count": 355,
     "metadata": {},
     "output_type": "execute_result"
    }
   ],
   "source": [
    "open Wire\n",
    "\n",
    "( Wire.ofString \"R75,D30,R83,U83,L12,D49,R71,U7,L72\" ,\n",
    "  Wire.ofString \"U62,R66,U55,R34,D71,R55,D58,R83\"\n",
    ") ||> Wire.intersection |> (string)"
   ]
  },
  {
   "cell_type": "markdown",
   "metadata": {},
   "source": [
    "`R98,U47,R26,D63,R33,U87,L62,D20,R33,U53,R51`\n",
    "\n",
    "`U98,R91,D20,R16,D67,R40,U7,R15,U6,R7`\n",
    "\n",
    "= distance 135"
   ]
  },
  {
   "cell_type": "code",
   "execution_count": 356,
   "metadata": {},
   "outputs": [
    {
     "data": {
      "text/plain": [
       "135"
      ]
     },
     "execution_count": 356,
     "metadata": {},
     "output_type": "execute_result"
    }
   ],
   "source": [
    "open Wire\n",
    "\n",
    "( Wire.ofString \"R98,U47,R26,D63,R33,U87,L62,D20,R33,U53,R51\" ,\n",
    "  Wire.ofString \"U98,R91,D20,R16,D67,R40,U7,R15,U6,R7\"\n",
    ") ||> Wire.intersection |> (string)"
   ]
  },
  {
   "cell_type": "markdown",
   "metadata": {},
   "source": [
    "## Input\n",
    "\n",
    "The input is provided as two lines of strings, representing the two wires.\n"
   ]
  },
  {
   "cell_type": "code",
   "execution_count": 357,
   "metadata": {},
   "outputs": [],
   "source": [
    "let inputFilePath = \"./03-input-1.txt\"\n",
    "\n",
    "let input = System.IO.File.ReadAllLines(inputFilePath)\n",
    "let wire1 = input.[0] |> Wire.ofString\n",
    "let wire2 = input.[1] |> Wire.ofString"
   ]
  },
  {
   "cell_type": "markdown",
   "metadata": {},
   "source": [
    "## Solution"
   ]
  },
  {
   "cell_type": "code",
   "execution_count": 358,
   "metadata": {},
   "outputs": [
    {
     "data": {
      "text/plain": [
       "That's the right answer! You are one gold star closer to rescuing Santa."
      ]
     },
     "execution_count": 358,
     "metadata": {},
     "output_type": "execute_result"
    }
   ],
   "source": [
    "#r \"nuget:Expecto\"\n",
    "    \n",
    "open Expecto\n",
    "\n",
    "try \n",
    "    let result = Wire.intersection wire1 wire2\n",
    "    let expected = 217\n",
    "    Expect.equal result expected (sprintf \"Unexpected result: %A (Should be %A)\" result expected)\n",
    "    \"That's the right answer! You are one gold star closer to rescuing Santa.\"\n",
    "with\n",
    "    | ex -> ex.ToString()"
   ]
  }
 ],
 "metadata": {
  "kernelspec": {
   "display_name": ".NET (F#)",
   "language": "F#",
   "name": ".net-fsharp"
  },
  "language_info": {
   "file_extension": ".fs",
   "mimetype": "text/x-fsharp",
   "name": "C#",
   "pygments_lexer": "fsharp",
   "version": "4.5"
  }
 },
 "nbformat": 4,
 "nbformat_minor": 4
}
