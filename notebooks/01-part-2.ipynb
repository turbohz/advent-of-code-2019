{
 "cells": [
  {
   "cell_type": "markdown",
   "metadata": {},
   "source": [
    "# Day 1: The Tyranny of the Rocket Equation\n",
    "\n",
    "https://adventofcode.com/2019/day/1"
   ]
  },
  {
   "cell_type": "markdown",
   "metadata": {},
   "source": [
    "Fuel itself requires fuel just like a module - take its mass, divide by three, round down, and subtract 2. "
   ]
  },
  {
   "cell_type": "code",
   "execution_count": 16,
   "metadata": {},
   "outputs": [],
   "source": [
    "let neededFuel (mass:int) : int =\n",
    "    (mass/3)-2"
   ]
  },
  {
   "cell_type": "markdown",
   "metadata": {},
   "source": [
    "However, that fuel also requires fuel, and that fuel requires fuel, and so on. \n",
    "\n",
    "Any mass that would require negative fuel should instead be treated as if it requires zero fuel; \n",
    "\n",
    "_The remaining mass, if any, is instead handled by wishing really hard, which has no mass and is outside the scope of this calculation._\n",
    "\n",
    "So, for each module mass, calculate its fuel and add it to the total. \n",
    "\n",
    "Then, **treat the fuel amount you just calculated as the input mass** and repeat the process, continuing until a fuel requirement is zero or negative."
   ]
  },
  {
   "cell_type": "code",
   "execution_count": 17,
   "metadata": {},
   "outputs": [],
   "source": [
    "let rec totalNeededFuel (acc:int list) (mass:int) : int =\n",
    "    match mass |> neededFuel with\n",
    "    | m when m > 0 -> totalNeededFuel (m::acc) m\n",
    "    | m -> acc |> List.sum"
   ]
  },
  {
   "cell_type": "markdown",
   "metadata": {},
   "source": [
    "## Test Cases"
   ]
  },
  {
   "cell_type": "markdown",
   "metadata": {},
   "source": [
    "A module of mass 14 requires 2 fuel. \n",
    "\n",
    "_This fuel requires no further fuel (2 divided by 3 and rounded down is 0, which would call for a negative fuel), so the total fuel required is still just 2._"
   ]
  },
  {
   "cell_type": "code",
   "execution_count": 18,
   "metadata": {},
   "outputs": [
    {
     "data": {
      "text/plain": [
       "2"
      ]
     },
     "execution_count": 18,
     "metadata": {},
     "output_type": "execute_result"
    }
   ],
   "source": [
    "totalNeededFuel [] 14 "
   ]
  },
  {
   "cell_type": "markdown",
   "metadata": {},
   "source": [
    "At first, a module of mass 1969 requires 654 fuel. Then, this fuel requires 216 more fuel (654 / 3 - 2). 216 then requires 70 more fuel, which requires 21 fuel, which requires 5 fuel, which requires no further fuel. \n",
    "\n",
    "So, the total fuel required for a module of mass 1969 is 654 + 216 + 70 + 21 + 5 = 966."
   ]
  },
  {
   "cell_type": "code",
   "execution_count": 19,
   "metadata": {},
   "outputs": [
    {
     "data": {
      "text/plain": [
       "966"
      ]
     },
     "execution_count": 19,
     "metadata": {},
     "output_type": "execute_result"
    }
   ],
   "source": [
    "totalNeededFuel [] 1969 "
   ]
  },
  {
   "cell_type": "markdown",
   "metadata": {},
   "source": [
    "The fuel required by a module of mass 100756 and its fuel is: 33583 + 11192 + 3728 + 1240 + 411 + 135 + 43 + 12 + 2 = 50346."
   ]
  },
  {
   "cell_type": "code",
   "execution_count": 20,
   "metadata": {},
   "outputs": [
    {
     "data": {
      "text/plain": [
       "50346"
      ]
     },
     "execution_count": 20,
     "metadata": {},
     "output_type": "execute_result"
    }
   ],
   "source": [
    "totalNeededFuel [] 100756 "
   ]
  },
  {
   "cell_type": "markdown",
   "metadata": {},
   "source": [
    "## Problem\n",
    "\n",
    "What is the sum of the fuel requirements for all of the modules on your spacecraft when also taking into account the mass of the added fuel? "
   ]
  },
  {
   "cell_type": "code",
   "execution_count": 21,
   "metadata": {},
   "outputs": [],
   "source": [
    "// Input data is personal\n",
    "\n",
    "let input_file_path = \"./01-input-1.txt\"\n",
    "let input = System.IO.File.ReadAllLines(input_file_path) |> Seq.map(int)"
   ]
  },
  {
   "cell_type": "markdown",
   "metadata": {},
   "source": [
    "## Solution\n",
    "\n",
    "Calculate the fuel requirements for each module separately, then add them all up at the end."
   ]
  },
  {
   "cell_type": "code",
   "execution_count": 22,
   "metadata": {},
   "outputs": [
    {
     "data": {
      "text/plain": [
       "That's the right answer! You are one gold star closer to rescuing Santa."
      ]
     },
     "execution_count": 22,
     "metadata": {},
     "output_type": "execute_result"
    }
   ],
   "source": [
    "#r \"nuget:Expecto\"\n",
    "    \n",
    "open Expecto\n",
    "\n",
    "let totalNeededFuel (mass_list: int seq) : int =\n",
    "    mass_list |> Seq.map (totalNeededFuel []) |> Seq.sum\n",
    "\n",
    "try \n",
    "    let result = totalNeededFuel input\n",
    "    let expected = 4964376\n",
    "    Expect.equal result expected (sprintf \"Unexpected result: %A (Should be %A)\" result expected)\n",
    "    \"That's the right answer! You are one gold star closer to rescuing Santa.\"\n",
    "with\n",
    "    | ex -> ex.ToString()\n",
    "\n",
    "\n",
    "\n"
   ]
  }
 ],
 "metadata": {
  "kernelspec": {
   "display_name": ".NET (F#)",
   "language": "F#",
   "name": ".net-fsharp"
  },
  "language_info": {
   "file_extension": ".fs",
   "mimetype": "text/x-fsharp",
   "name": "C#",
   "pygments_lexer": "fsharp",
   "version": "4.5"
  }
 },
 "nbformat": 4,
 "nbformat_minor": 4
}
