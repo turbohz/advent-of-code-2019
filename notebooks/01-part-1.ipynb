{
 "cells": [
  {
   "cell_type": "markdown",
   "metadata": {},
   "source": [
    "# Day 1: The Tyranny of the Rocket Equation\n",
    "\n",
    "https://adventofcode.com/2019/day/1"
   ]
  },
  {
   "cell_type": "markdown",
   "metadata": {},
   "source": [
    "The fuel required to launch a given module is based on its mass. \n",
    "\n",
    "Specifically, to find the fuel required for a module, take its mass, **divide by three**, **round down**, and **subtract 2**."
   ]
  },
  {
   "cell_type": "code",
   "execution_count": 33,
   "metadata": {},
   "outputs": [],
   "source": [
    "let neededFuel (mass:int) : int =\n",
    "    (mass/3)-2"
   ]
  },
  {
   "cell_type": "markdown",
   "metadata": {},
   "source": [
    "> **Notice**: Int division is _floored_ by default"
   ]
  },
  {
   "cell_type": "code",
   "execution_count": 34,
   "metadata": {},
   "outputs": [
    {
     "data": {
      "text/plain": [
       "1"
      ]
     },
     "execution_count": 34,
     "metadata": {},
     "output_type": "execute_result"
    }
   ],
   "source": [
    "4/3"
   ]
  },
  {
   "cell_type": "markdown",
   "metadata": {},
   "source": [
    "## Test cases"
   ]
  },
  {
   "cell_type": "markdown",
   "metadata": {},
   "source": [
    "For a mass of 12, divide by 3 and round down to get 4, then subtract 2 to get **2**."
   ]
  },
  {
   "cell_type": "code",
   "execution_count": 35,
   "metadata": {},
   "outputs": [
    {
     "data": {
      "text/plain": [
       "2"
      ]
     },
     "execution_count": 35,
     "metadata": {},
     "output_type": "execute_result"
    }
   ],
   "source": [
    "neededFuel 12"
   ]
  },
  {
   "cell_type": "markdown",
   "metadata": {},
   "source": [
    "For a mass of 14, dividing by 3 and rounding down still yields 4, so the fuel required is also **2**."
   ]
  },
  {
   "cell_type": "code",
   "execution_count": 36,
   "metadata": {},
   "outputs": [
    {
     "data": {
      "text/plain": [
       "2"
      ]
     },
     "execution_count": 36,
     "metadata": {},
     "output_type": "execute_result"
    }
   ],
   "source": [
    "neededFuel 14"
   ]
  },
  {
   "cell_type": "markdown",
   "metadata": {},
   "source": [
    "For a mass of 1969, the fuel required is **654**."
   ]
  },
  {
   "cell_type": "code",
   "execution_count": 37,
   "metadata": {},
   "outputs": [
    {
     "data": {
      "text/plain": [
       "654"
      ]
     },
     "execution_count": 37,
     "metadata": {},
     "output_type": "execute_result"
    }
   ],
   "source": [
    "neededFuel 1969"
   ]
  },
  {
   "cell_type": "markdown",
   "metadata": {},
   "source": [
    "For a mass of 100756, the fuel required is **33583**."
   ]
  },
  {
   "cell_type": "code",
   "execution_count": 38,
   "metadata": {},
   "outputs": [
    {
     "data": {
      "text/plain": [
       "33583"
      ]
     },
     "execution_count": 38,
     "metadata": {},
     "output_type": "execute_result"
    }
   ],
   "source": [
    "neededFuel 100756"
   ]
  },
  {
   "cell_type": "markdown",
   "metadata": {},
   "source": [
    "## Problem\n",
    "\n",
    "The Fuel Counter-Upper needs to know the total fuel requirement.\n",
    "\n",
    "> First we need to fetch a list of mass values\n",
    ">\n",
    "> We'll use FSharp.Data for the load and parsing as CSV of the input data\n",
    ">\n",
    "> See: https://fsharp.github.io/FSharp.Data/library/CsvFile.html"
   ]
  },
  {
   "cell_type": "code",
   "execution_count": 39,
   "metadata": {},
   "outputs": [
    {
     "data": {
      "text/html": [
       "<table><thead><tr><th><i>index</i></th><th>value</th></tr></thead><tbody><tr><td>0</td><td>85644</td></tr><tr><td>1</td><td>52584</td></tr><tr><td>2</td><td>72349</td></tr><tr><td>3</td><td>83834</td></tr><tr><td>4</td><td>56593</td></tr></tbody></table>"
      ]
     },
     "execution_count": 39,
     "metadata": {},
     "output_type": "execute_result"
    }
   ],
   "source": [
    "#r \"nuget:FSharp.Data\"\n",
    "    \n",
    "open FSharp.Data\n",
    "\n",
    "// Load personal(!) input values\n",
    "\n",
    "let input_data = CsvFile.Load(\"https://gitlab.com/turbohz/advent-of-code-2019/raw/master/notebooks/01-input-1.txt\")\n",
    "    \n",
    "let module_mass = \n",
    "     seq { for row in input_data.Rows do yield (row.GetColumn 0).AsInteger() }\n",
    "\n",
    "// Got what we need?\n",
    "\n",
    "module_mass |> Seq.take 5"
   ]
  },
  {
   "cell_type": "markdown",
   "metadata": {},
   "source": [
    "## Solution\n",
    "\n",
    "To find it, **individually calculate** the fuel needed for the mass of each module (your puzzle input), then **add together** all the fuel values."
   ]
  },
  {
   "cell_type": "code",
   "execution_count": 40,
   "metadata": {},
   "outputs": [
    {
     "data": {
      "text/plain": [
       "That's the right answer! You are one gold star closer to rescuing Santa."
      ]
     },
     "execution_count": 40,
     "metadata": {},
     "output_type": "execute_result"
    }
   ],
   "source": [
    "#r \"nuget:Expecto\"\n",
    "    \n",
    "open Expecto\n",
    "\n",
    "let totalNeededFuel (mass_list: int seq) : int =\n",
    "    mass_list |> Seq.map neededFuelForMass |> Seq.sum\n",
    "\n",
    "try \n",
    "    let result = totalNeededFuel module_mass\n",
    "    let expected = 3311492\n",
    "    Expect.equal result expected (sprintf \"Unexpected result: %A (Should be %A)\" result expected)\n",
    "    \"That's the right answer! You are one gold star closer to rescuing Santa.\"\n",
    "with\n",
    "    | ex -> ex.ToString()"
   ]
  },
  {
   "cell_type": "markdown",
   "metadata": {},
   "source": [
    "> "
   ]
  }
 ],
 "metadata": {
  "kernelspec": {
   "display_name": ".NET (F#)",
   "language": "F#",
   "name": ".net-fsharp"
  },
  "language_info": {
   "file_extension": ".fs",
   "mimetype": "text/x-fsharp",
   "name": "C#",
   "pygments_lexer": "fsharp",
   "version": "4.5"
  }
 },
 "nbformat": 4,
 "nbformat_minor": 4
}
